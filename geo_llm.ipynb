{
  "nbformat": 4,
  "nbformat_minor": 0,
  "metadata": {
    "colab": {
      "provenance": [],
      "authorship_tag": "ABX9TyOqcb9ZLbZid7Mge/zm/9KI",
      "include_colab_link": true
    },
    "kernelspec": {
      "name": "python3",
      "display_name": "Python 3"
    },
    "language_info": {
      "name": "python"
    }
  },
  "cells": [
    {
      "cell_type": "markdown",
      "metadata": {
        "id": "view-in-github",
        "colab_type": "text"
      },
      "source": [
        "<a href=\"https://colab.research.google.com/github/maciejlipski/geo_llm/blob/main/geo_llm.ipynb\" target=\"_parent\"><img src=\"https://colab.research.google.com/assets/colab-badge.svg\" alt=\"Open In Colab\"/></a>"
      ]
    },
    {
      "cell_type": "markdown",
      "source": [
        "# Budowa Agenta Tekstowego dla Geologii/Geoinformatyki (RAG)\n",
        "Kroki początkowe:\n",
        "- wczytanie folderu 'pdf' zawierającego wybrane artykuły\n",
        "- wczytanie pliku '.env' zawierającego klucz API OpenAI pod nazwą OPENAI_API_KEY"
      ],
      "metadata": {
        "id": "Li0c11wtkTzw"
      }
    },
    {
      "cell_type": "markdown",
      "source": [
        "## 1. Instalacja bibliotek"
      ],
      "metadata": {
        "id": "e2ZMWfnekdGJ"
      }
    },
    {
      "cell_type": "code",
      "execution_count": null,
      "metadata": {
        "id": "d3SJ3Hc4i8g8"
      },
      "outputs": [],
      "source": [
        "!pip install openai langchain faiss-cpu PyMuPDF sentence-transformers dotenv\n"
      ]
    },
    {
      "cell_type": "markdown",
      "source": [
        "## 2. Konfiguracja OpenAI"
      ],
      "metadata": {
        "id": "-3g3fvy8kh9L"
      }
    },
    {
      "cell_type": "code",
      "source": [
        "import dotenv\n",
        "import os\n",
        "from openai import OpenAI\n",
        "\n",
        "dotenv.load_dotenv('./.env')\n",
        "client = OpenAI(api_key=os.environ[\"OPENAI_API_KEY\"])\n"
      ],
      "metadata": {
        "id": "Dk6OroATkq9j"
      },
      "execution_count": null,
      "outputs": []
    },
    {
      "cell_type": "markdown",
      "source": [
        "## 3. Wczytanie dokumentów"
      ],
      "metadata": {
        "id": "YPs7yJill04K"
      }
    },
    {
      "cell_type": "code",
      "source": [
        "import os\n",
        "import fitz\n",
        "\n",
        "def load_pdfs(folder_path):\n",
        "    texts = []\n",
        "    for filename in os.listdir(folder_path):\n",
        "        if filename.endswith(\".pdf\"):\n",
        "            doc = fitz.open(os.path.join(folder_path, filename))\n",
        "            full_text = \"\\n\".join([page.get_text() for page in doc])\n",
        "            texts.append(full_text)\n",
        "    return texts\n",
        "\n",
        "pdf_texts = load_pdfs(\"pdf\")\n",
        "print(f\"Wczytano {len(pdf_texts)} dokumentów.\")\n"
      ],
      "metadata": {
        "id": "czA_Oz3kl2w7"
      },
      "execution_count": null,
      "outputs": []
    },
    {
      "cell_type": "markdown",
      "source": [
        "## 4. Chunkowanie tekstów"
      ],
      "metadata": {
        "id": "67hiS2uqoRUO"
      }
    },
    {
      "cell_type": "code",
      "source": [
        "from langchain.text_splitter import RecursiveCharacterTextSplitter\n",
        "\n",
        "text_splitter = RecursiveCharacterTextSplitter(chunk_size=500, chunk_overlap=100)\n",
        "chunks = []\n",
        "\n",
        "for text in pdf_texts:\n",
        "    split = text_splitter.create_documents([text])\n",
        "    chunks.extend(split)\n",
        "\n",
        "print(f\"Liczba fragmentów po podziale: {len(chunks)}\")\n"
      ],
      "metadata": {
        "id": "H7dI2w4roTOD"
      },
      "execution_count": null,
      "outputs": []
    },
    {
      "cell_type": "markdown",
      "source": [
        "## 5. Tworzenie embeddingów i bazy FAISS"
      ],
      "metadata": {
        "id": "hn8YwjeeoXhp"
      }
    },
    {
      "cell_type": "code",
      "source": [
        "from sentence_transformers import SentenceTransformer\n",
        "import faiss\n",
        "import numpy as np\n",
        "\n",
        "model = SentenceTransformer(\"all-MiniLM-L6-v2\")\n",
        "\n",
        "docs = [chunk.page_content for chunk in chunks]\n",
        "embeddings = model.encode(docs)\n",
        "\n",
        "dimension = embeddings.shape[1]\n",
        "index = faiss.IndexFlatL2(dimension)\n",
        "index.add(np.array(embeddings))\n"
      ],
      "metadata": {
        "id": "cQqjpt1KoYYS"
      },
      "execution_count": null,
      "outputs": []
    },
    {
      "cell_type": "markdown",
      "source": [
        "## 6. Funkcja retrieval (wyszukiwanie kontekstu)"
      ],
      "metadata": {
        "id": "VXZIA-HoopFB"
      }
    },
    {
      "cell_type": "code",
      "source": [
        "def retrieve_context(question, k=4):\n",
        "    query_embedding = model.encode([question])\n",
        "    _, indices = index.search(np.array(query_embedding), k)\n",
        "    return \"\\n\\n\".join([docs[i] for i in indices[0]])\n"
      ],
      "metadata": {
        "id": "MOpnZ1akore7"
      },
      "execution_count": null,
      "outputs": []
    },
    {
      "cell_type": "markdown",
      "source": [
        "## 7. Funkcja zapytania do GPT-4"
      ],
      "metadata": {
        "id": "ErgwzIdPoyhH"
      }
    },
    {
      "cell_type": "code",
      "source": [
        "def ask_gpt4(question, context):\n",
        "    prompt = f\"\"\"\n",
        "Odpowiedz na pytanie na podstawie poniższego kontekstu.\n",
        "\n",
        "Kontekst:\n",
        "{context}\n",
        "\n",
        "Pytanie: {question}\n",
        "\"\"\"\n",
        "    response = client.chat.completions.create(\n",
        "        model=\"gpt-4o-mini\",\n",
        "        messages=[{\"role\": \"user\", \"content\": prompt}],\n",
        "        temperature=0.3,\n",
        "    )\n",
        "    return response.choices[0].message.content.strip()\n"
      ],
      "metadata": {
        "id": "ywmC6izIox-5"
      },
      "execution_count": null,
      "outputs": []
    },
    {
      "cell_type": "markdown",
      "source": [
        "## 8. Logowanie interakcji do pliku"
      ],
      "metadata": {
        "id": "QukqGXo2rhye"
      }
    },
    {
      "cell_type": "code",
      "source": [
        "import csv\n",
        "\n",
        "def log_interaction(question, answer, path=\"log.csv\"):\n",
        "    with open(path, mode=\"a\", newline=\"\", encoding=\"utf-8\") as file:\n",
        "        writer = csv.writer(file)\n",
        "        writer.writerow([question, answer])\n"
      ],
      "metadata": {
        "id": "ci6pUXStriql"
      },
      "execution_count": null,
      "outputs": []
    },
    {
      "cell_type": "markdown",
      "source": [
        "##  9. Przykład działania agenta"
      ],
      "metadata": {
        "id": "hHEchaK9rmhd"
      }
    },
    {
      "cell_type": "code",
      "source": [
        "question = \"Jakie metody stosuje się w geotechnice miejskiej do badania gruntu?\"\n",
        "\n",
        "context = retrieve_context(question)\n",
        "answer = ask_gpt4(question, context)\n",
        "print(\"📌 Odpowiedź GPT-4:\\n\", answer)\n",
        "\n",
        "log_interaction(question, answer)\n"
      ],
      "metadata": {
        "id": "i5u5ctc4rpNG"
      },
      "execution_count": null,
      "outputs": []
    },
    {
      "cell_type": "markdown",
      "source": [
        "📌 Odpowiedź GPT-4:\n",
        " W geotechnice miejskiej do badania gruntu stosuje się różne metody sondowania, w tym sondowania statyczne i dynamiczne. Jedną z zalecanych metod jest sonda wkręcana, określana również jako Viktsond (Swedish Weight Sounding), która została opracowana w Szwecji. Metody te pozwalają na określenie właściwości gruntów, ich stanu oraz ściśliwości, co jest istotne dla celów dokumentowania geologiczno-inżynierskiego."
      ],
      "metadata": {
        "id": "cKyWWarbuNPI"
      }
    },
    {
      "cell_type": "markdown",
      "source": [
        "## 10. Intefejs z Inputem"
      ],
      "metadata": {
        "id": "-o8TIxdDukvr"
      }
    },
    {
      "cell_type": "code",
      "source": [
        "while True:\n",
        "    user_question = input(\"\\nZadaj pytanie (lub wpisz 'exit'): \")\n",
        "    if user_question.lower() == 'exit':\n",
        "        break\n",
        "    context = retrieve_context(user_question)\n",
        "    answer = ask_gpt4(user_question, context)\n",
        "    print(\"\\n🔹 Odpowiedź:\\n\", answer)\n",
        "    log_interaction(user_question, answer)\n"
      ],
      "metadata": {
        "id": "OLpx__w1unQZ"
      },
      "execution_count": null,
      "outputs": []
    },
    {
      "cell_type": "markdown",
      "source": [
        "Zadaj pytanie (lub wpisz 'exit'): Jakie są czynniki i kryteria wyboru właściwego kierunku rekultywacji?\n",
        "\n",
        "🔹 Odpowiedź:\n",
        " Czynniki wyboru właściwego kierunku rekultywacji obejmują trzy grupy:\n",
        "\n",
        "1. Koszty rekultywacji i zagospodarowania terenu poeksploatacyjnego.\n",
        "2. Koszty utrzymania zagospodarowanego obszaru i obiektów.\n",
        "3. Opłacalność inwestycji i okres zwrotu nakładów w przypadku przedsięwzięć komercyjnych.\n",
        "\n",
        "Kryteria wyboru kierunku rekultywacji opierają się głównie na rachunku ekonomicznym, chyba że inne czynniki, takie jak kulturowe, okażą się istotniejsze. Ważne jest również uwzględnienie charakterystyki obiektu pod względem różnych czynników, co pozwala na określenie optymalnych funkcji dla obszarów poddawanych działaniom naprawczym.\n",
        "\n",
        "Zadaj pytanie (lub wpisz 'exit'): exit"
      ],
      "metadata": {
        "id": "MZRRgvjLvQiR"
      }
    }
  ]
}